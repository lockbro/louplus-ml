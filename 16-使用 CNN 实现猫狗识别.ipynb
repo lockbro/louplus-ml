{
 "cells": [
  {
   "cell_type": "markdown",
   "metadata": {},
   "source": [
    "# <font color='brown'>楼 + 机器学习实战</font>\n",
    "\n",
    "# 挑战：使用 CNN 实现猫狗识别"
   ]
  },
  {
   "cell_type": "markdown",
   "metadata": {},
   "source": [
    "---"
   ]
  },
  {
   "cell_type": "markdown",
   "metadata": {},
   "source": [
    "** 以下内容仅保留挑战代码部分，挑战全文请到原课程查看。**"
   ]
  },
  {
   "cell_type": "markdown",
   "metadata": {},
   "source": [
    "---"
   ]
  },
  {
   "cell_type": "markdown",
   "metadata": {},
   "source": [
    "**挑战：参考上面给出的神经网络结构，使用 `tf.layers` 下的类构建神经网络模型。**"
   ]
  },
  {
   "cell_type": "code",
   "execution_count": null,
   "metadata": {},
   "outputs": [],
   "source": [
    "import tensorflow as tf\n",
    "\n",
    "\n",
    "### 代码开始 ### (≈ 12 行代码)\n",
    "\n",
    "# 图片是 64*64 大小，但是数量未知，所以数量的维度为 None\n",
    "x = tf.placeholder(tf.float32, [None, 64, 64, 1])\n",
    "y = tf.placeholder(tf.int64, [None, 2])\n",
    "\n",
    "# 卷积 + 池化 1\n",
    "conv1 = tf.layers.conv2d(inputs=x, filters=32, kernel_size=[3, 3],\n",
    "                         padding=\"same\", activation=tf.nn.relu)\n",
    "pool1 = tf.layers.max_pooling2d(inputs=conv1, pool_size=[2, 2], strides=1)\n",
    "\n",
    "# 卷积 + 池化 2\n",
    "conv2 = tf.layers.conv2d(inputs=pool1, filters=64, kernel_size=[3, 3], \n",
    "                         padding=\"same\", activation=tf.nn.relu)\n",
    "pool2 = tf.layers.max_pooling2d(inputs=conv2, pool_size=[2, 2], strides=1)\n",
    "\n",
    "# 卷积 + 池化 3\n",
    "conv3 = tf.layers.conv2d(inputs=pool2, filters=128, kernel_size=[3, 3], \n",
    "                         padding=\"same\", activation=tf.nn.relu)\n",
    "pool3 = tf.layers.max_pooling2d(inputs=conv3, pool_size=[2, 2], strides=2)\n",
    "\n",
    "# 全连接层\n",
    "flatten = tf.layers.flatten(pool3)\n",
    "dense = tf.layers.dense(inputs=flatten, units=128, activation=tf.nn.relu)\n",
    "dropout = tf.layers.dropout(inputs=dense, rate=0.6)\n",
    "logits = tf.layers.dense(inputs=dropout, units=2, activation=None) # 输出\n",
    "\n",
    "### 代码结束 ###"
   ]
  },
  {
   "cell_type": "markdown",
   "metadata": {},
   "source": [
    "---"
   ]
  },
  {
   "cell_type": "markdown",
   "metadata": {},
   "source": [
    "**挑战：定义损失函数、优化器、以及准确率评估函数。**"
   ]
  },
  {
   "cell_type": "code",
   "execution_count": null,
   "metadata": {},
   "outputs": [],
   "source": [
    "### 代码开始 ### (≈ 3 行代码)\n",
    "\n",
    "# 损失函数\n",
    "loss = tf.reduce_mean(tf.nn.softmax_cross_entropy_with_logits_v2(logits=logits, labels=y))\n",
    "\n",
    "# 优化器\n",
    "training_op = tf.train.AdamOptimizer(learning_rate=0.001).minimize(loss) \n",
    "\n",
    "# 准确率计算公式\n",
    "acc_func = tf.reduce_mean(tf.cast(tf.nn.in_top_k(logits, tf.argmax(y, 1), 1), tf.float32))\n",
    "\n",
    "### 代码结束 ###"
   ]
  },
  {
   "cell_type": "markdown",
   "metadata": {},
   "source": [
    "---"
   ]
  },
  {
   "cell_type": "markdown",
   "metadata": {},
   "source": [
    "<div style=\"color: #999;font-size: 12px;font-style: italic;\">*本课程内容，由作者授权实验楼发布，未经允许，禁止转载、下载及非法传播。</div>"
   ]
  }
 ],
 "metadata": {
  "kernelspec": {
   "display_name": "Python 3",
   "language": "python",
   "name": "python3"
  },
  "language_info": {
   "codemirror_mode": {
    "name": "ipython",
    "version": 3
   },
   "file_extension": ".py",
   "mimetype": "text/x-python",
   "name": "python",
   "nbconvert_exporter": "python",
   "pygments_lexer": "ipython3",
   "version": "3.6.5"
  }
 },
 "nbformat": 4,
 "nbformat_minor": 2
}

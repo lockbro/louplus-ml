{
 "cells": [
  {
   "cell_type": "markdown",
   "metadata": {},
   "source": [
    "# 楼 + 机器学习实战\n",
    "\n",
    "# 挑战：使用密度聚类追踪共享单车分布"
   ]
  },
  {
   "cell_type": "markdown",
   "metadata": {},
   "source": [
    "---"
   ]
  },
  {
   "cell_type": "markdown",
   "metadata": {},
   "source": [
    "** 以下内容仅保留挑战代码部分，挑战全文请到原课程查看。**"
   ]
  },
  {
   "cell_type": "markdown",
   "metadata": {},
   "source": [
    "---"
   ]
  },
  {
   "cell_type": "markdown",
   "metadata": {},
   "source": [
    "**挑战：使用 HDSCAN 算法完成共享单车 GPS 散点数据密度聚类，需要确定 `eps` 和 `min_samples` 参数。**"
   ]
  },
  {
   "cell_type": "code",
   "execution_count": null,
   "metadata": {},
   "outputs": [],
   "source": [
    "from sklearn.cluster import DBSCAN\n",
    "\n",
    "### 代码开始 ### (≈ 2 行代码)\n",
    "dbscan_m = DBSCAN(eps=0.001, min_samples=10)\n",
    "dbscan_c = dbscan_m.fit_predict(df)\n",
    "### 代码结束 ###\n",
    "dbscan_c # 输出聚类标签"
   ]
  },
  {
   "cell_type": "markdown",
   "metadata": {},
   "source": [
    "---"
   ]
  },
  {
   "cell_type": "markdown",
   "metadata": {},
   "source": [
    "**挑战：针对上面聚类后数据，按要求重新绘制散点图。**"
   ]
  },
  {
   "cell_type": "code",
   "execution_count": null,
   "metadata": {},
   "outputs": [],
   "source": [
    "### 代码开始 ### (≈ 4~8 行代码)\n",
    "df_c = pd.concat([df, pd.DataFrame(dbscan_c, columns=['clusters'])], axis=1)\n",
    "\n",
    "df_n = df_c[df_c['clusters']!=-1]\n",
    "df_o = df_c[df_c['clusters']==-1]\n",
    "\n",
    "plt.figure(figsize=(15,8))\n",
    "plt.scatter(df_n['lat'], df_n['lon'], c=df_n['clusters'], cmap='viridis')\n",
    "plt.scatter(df_o['lat'], df_o['lon'], alpha=.1, c='b')\n",
    "### 代码结束 ###"
   ]
  },
  {
   "cell_type": "markdown",
   "metadata": {},
   "source": [
    "---"
   ]
  },
  {
   "cell_type": "markdown",
   "metadata": {},
   "source": [
    "**挑战：针对聚类后数据，将异常点（不符合半径 100 米内有 2 辆共享单车）绘制到散点图。**"
   ]
  },
  {
   "cell_type": "code",
   "execution_count": null,
   "metadata": {},
   "outputs": [],
   "source": [
    "### 代码开始 ### (≈ 6~10 行代码)\n",
    "plt.figure(figsize=(15,8))\n",
    "\n",
    "dbscan_m = DBSCAN(eps=0.001, min_samples=2)\n",
    "dbscan_c = dbscan_m.fit_predict(df)\n",
    "dbscan_c\n",
    "\n",
    "df_c = pd.concat([df, pd.DataFrame(dbscan_c, columns=['clusters'])], axis=1)\n",
    "\n",
    "df_n = df_c[df_c['clusters']!=-1]\n",
    "df_o = df_c[df_c['clusters']==-1]\n",
    "\n",
    "plt.scatter(df_n['lat'], df_n['lon'], c=df_n['clusters'], cmap='viridis', alpha=.1)\n",
    "plt.scatter(df_o['lat'], df_o['lon'], c='r')\n",
    "### 代码结束 ###"
   ]
  },
  {
   "cell_type": "markdown",
   "metadata": {},
   "source": [
    "---"
   ]
  },
  {
   "cell_type": "markdown",
   "metadata": {},
   "source": [
    "<div style=\"color: #999;font-size: 12px;font-style: italic;\">*本课程内容，由作者授权实验楼发布，未经允许，禁止转载、下载及非法传播。</div>"
   ]
  }
 ],
 "metadata": {
  "kernelspec": {
   "display_name": "Python 3",
   "language": "python",
   "name": "python3"
  },
  "language_info": {
   "codemirror_mode": {
    "name": "ipython",
    "version": 3
   },
   "file_extension": ".py",
   "mimetype": "text/x-python",
   "name": "python",
   "nbconvert_exporter": "python",
   "pygments_lexer": "ipython3",
   "version": "3.6.3"
  }
 },
 "nbformat": 4,
 "nbformat_minor": 2
}

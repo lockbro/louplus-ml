{
 "cells": [
  {
   "cell_type": "markdown",
   "metadata": {},
   "source": [
    "# <font color='brown'>楼 + 机器学习实战</font>\n",
    "\n",
    "# 挑战：使用 PyTorch 实现线性回归"
   ]
  },
  {
   "cell_type": "markdown",
   "metadata": {},
   "source": [
    "---"
   ]
  },
  {
   "cell_type": "markdown",
   "metadata": {},
   "source": [
    "** 以下内容仅保留挑战代码部分，挑战全文请到原课程查看。**"
   ]
  },
  {
   "cell_type": "markdown",
   "metadata": {},
   "source": [
    "---"
   ]
  },
  {
   "cell_type": "markdown",
   "metadata": {},
   "source": [
    "**挑战：继承 `torch.nn.Module` 类实现挑战所需的 `LinearRegressionModel()` 线性回归类。**"
   ]
  },
  {
   "cell_type": "code",
   "execution_count": null,
   "metadata": {},
   "outputs": [],
   "source": [
    "import torch.nn as nn\n",
    "\n",
    "### 代码开始 ### (≈ 3 行代码)\n",
    "class LinearRegressionModel(nn.Module):\n",
    "    \n",
    "    def __init__(self):\n",
    "        super(LinearRegressionModel, self).__init__() \n",
    "        self.linear = nn.Linear(1, 1)\n",
    "\n",
    "    def forward(self, x):\n",
    "        out = self.linear(x)\n",
    "        return out\n",
    "### 代码结束 ###"
   ]
  },
  {
   "cell_type": "markdown",
   "metadata": {},
   "source": [
    "---"
   ]
  },
  {
   "cell_type": "markdown",
   "metadata": {},
   "source": [
    "**挑战：定义 MSE 损失函数及随机梯度下降优化器。**"
   ]
  },
  {
   "cell_type": "code",
   "execution_count": null,
   "metadata": {},
   "outputs": [],
   "source": [
    "model = LinearRegressionModel() # 实例化模型\n",
    "### 代码开始 ### (≈ 2 行代码)\n",
    "\n",
    "loss_fn = nn.MSELoss() # 定义损失函数\n",
    "optimiser = t.optim.SGD(model.parameters(), lr = 0.01) # 定义优化器\n",
    "\n",
    "### 代码开始 ### (≈ 3 行代码)"
   ]
  },
  {
   "cell_type": "markdown",
   "metadata": {},
   "source": [
    "---"
   ]
  },
  {
   "cell_type": "markdown",
   "metadata": {},
   "source": [
    "**挑战：完成线性回归参数优化迭代过程。**"
   ]
  },
  {
   "cell_type": "code",
   "execution_count": null,
   "metadata": {
    "scrolled": false
   },
   "outputs": [],
   "source": [
    "### 代码开始 ### (≈ 7 行代码)\n",
    "for epoch in range(100):\n",
    "    X = x.reshape(len(x), 1) # 输入 x 张量\n",
    "    Y = y.reshape(len(y), 1) # 输入 y 张量\n",
    "    \n",
    "    optimiser.zero_grad()\n",
    "    Y_ = model.forward(X)\n",
    "    loss = loss_fn(Y_, Y)\n",
    "    loss.backward()\n",
    "    optimiser.step()\n",
    "    ### 代码结束 ###\n",
    "    \n",
    "    if epoch % 10 == 0:\n",
    "        print('epoch {}, loss {}'.format(epoch, loss.item()))"
   ]
  },
  {
   "cell_type": "markdown",
   "metadata": {},
   "source": [
    "---"
   ]
  },
  {
   "cell_type": "markdown",
   "metadata": {},
   "source": [
    "**挑战：根据拟合参数，将拟合直线绘制到图像中。**"
   ]
  },
  {
   "cell_type": "code",
   "execution_count": null,
   "metadata": {},
   "outputs": [],
   "source": [
    "### 代码开始 ### (≈ 4 行代码)\n",
    "weight = model.state_dict()['linear.weight'] # 权重\n",
    "bias = model.state_dict()['linear.bias'] # 偏置项\n",
    "\n",
    "plt.style.use(\"ggplot\")\n",
    "plt.scatter(x, y,c='black')\n",
    "plt.plot([0, 11],[bias, weight * 11 + bias], 'r')\n",
    "### 代码结束 ###"
   ]
  },
  {
   "cell_type": "markdown",
   "metadata": {},
   "source": [
    "---"
   ]
  },
  {
   "cell_type": "markdown",
   "metadata": {},
   "source": [
    "<div style=\"color: #999;font-size: 12px;font-style: italic;\">*本课程内容，由作者授权实验楼发布，未经允许，禁止转载、下载及非法传播。</div>"
   ]
  }
 ],
 "metadata": {
  "kernelspec": {
   "display_name": "Python 3",
   "language": "python",
   "name": "python3"
  },
  "language_info": {
   "codemirror_mode": {
    "name": "ipython",
    "version": 3
   },
   "file_extension": ".py",
   "mimetype": "text/x-python",
   "name": "python",
   "nbconvert_exporter": "python",
   "pygments_lexer": "ipython3",
   "version": "3.6.5"
  }
 },
 "nbformat": 4,
 "nbformat_minor": 2
}

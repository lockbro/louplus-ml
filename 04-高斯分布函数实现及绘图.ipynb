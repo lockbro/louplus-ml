{
 "cells": [
  {
   "cell_type": "markdown",
   "metadata": {},
   "source": [
    "# 楼 + 机器学习实战\n",
    "\n",
    "# 挑战：高斯分布函数实现及绘图"
   ]
  },
  {
   "cell_type": "markdown",
   "metadata": {},
   "source": [
    "---"
   ]
  },
  {
   "cell_type": "markdown",
   "metadata": {},
   "source": [
    "** 以下内容仅保留挑战代码部分，挑战全文请到原课程查看。**"
   ]
  },
  {
   "cell_type": "markdown",
   "metadata": {},
   "source": [
    "---"
   ]
  },
  {
   "cell_type": "markdown",
   "metadata": {},
   "source": [
    "**挑战：参考高斯分布公式，使用 Python 实现高斯分布函数。**"
   ]
  },
  {
   "cell_type": "code",
   "execution_count": null,
   "metadata": {},
   "outputs": [],
   "source": [
    "\"\"\"实现高斯分布函数\n",
    "\"\"\"\n",
    "import numpy as np\n",
    "\n",
    "def Gaussian(x, u, d):\n",
    "    \"\"\"\n",
    "    参数:\n",
    "    x -- 变量\n",
    "    u -- 均值\n",
    "    d -- 方差\n",
    "\n",
    "    返回:\n",
    "    p -- 高斯分布值\n",
    "    \"\"\"\n",
    "    ### 代码开始 ### (≈ 3~5 行代码)\n",
    "    d_2 = d * d * 2\n",
    "    zhishu = -(np.square(x - u) / d_2)\n",
    "    exp = np.exp(zhishu)\n",
    "    pi = np.pi\n",
    "    xishu = 1 / (np.sqrt(2 * pi) * d)\n",
    "    p = xishu * exp\n",
    "    return p\n",
    "    ### 代码结束 ###"
   ]
  },
  {
   "cell_type": "markdown",
   "metadata": {},
   "source": [
    "---"
   ]
  },
  {
   "cell_type": "markdown",
   "metadata": {},
   "source": [
    "**挑战：按规定的参数绘制高斯分布图像。**"
   ]
  },
  {
   "cell_type": "code",
   "execution_count": null,
   "metadata": {
    "scrolled": true
   },
   "outputs": [],
   "source": [
    "from matplotlib import pyplot as plt\n",
    "%matplotlib inline\n",
    "\n",
    "### 代码开始 ### (≈ 5~10 行代码)\n",
    "y_1 = Gaussian(x, 0, 1)\n",
    "y_2 = Gaussian(x, -1, 2)\n",
    "y_3 = Gaussian(x, 1, 0.5)\n",
    "y_4 = Gaussian(x, 0.5, 5)\n",
    "\n",
    "plt.figure(figsize=(8,5))\n",
    "plt.plot(x, y_1, c='r', label=\"u=0, d=1\")\n",
    "plt.plot(x, y_2, c='b', label=\"u=-1, d=2\")\n",
    "plt.plot(x, y_3, c='g', label=\"u=1, d=0.5\")\n",
    "plt.plot(x, y_4, c='y', label=\"u=0.5, d=5\")\n",
    "plt.legend()\n",
    "### 代码结束 ###"
   ]
  },
  {
   "cell_type": "markdown",
   "metadata": {},
   "source": [
    "---"
   ]
  },
  {
   "cell_type": "markdown",
   "metadata": {},
   "source": [
    "<div style=\"color: #999;font-size: 12px;font-style: italic;\">*本课程内容，由作者授权实验楼发布，未经允许，禁止转载、下载及非法传播。</div>"
   ]
  }
 ],
 "metadata": {
  "kernelspec": {
   "display_name": "Python 3",
   "language": "python",
   "name": "python3"
  },
  "language_info": {
   "codemirror_mode": {
    "name": "ipython",
    "version": 3
   },
   "file_extension": ".py",
   "mimetype": "text/x-python",
   "name": "python",
   "nbconvert_exporter": "python",
   "pygments_lexer": "ipython3",
   "version": "3.6.5"
  }
 },
 "nbformat": 4,
 "nbformat_minor": 2
}

{
 "cells": [
  {
   "cell_type": "markdown",
   "metadata": {},
   "source": [
    "# 楼 + 机器学习实战\n",
    "\n",
    "# 挑战：使用交叉验证快速选择模型"
   ]
  },
  {
   "cell_type": "markdown",
   "metadata": {},
   "source": [
    "---"
   ]
  },
  {
   "cell_type": "markdown",
   "metadata": {},
   "source": [
    "** 以下内容仅保留挑战代码部分，挑战全文请到原课程查看。**"
   ]
  },
  {
   "cell_type": "markdown",
   "metadata": {},
   "source": [
    "---"
   ]
  },
  {
   "cell_type": "markdown",
   "metadata": {},
   "source": [
    "**挑战：加载 `challenge-6-abalone.csv` 数据集，并预览前 `5` 行。**"
   ]
  },
  {
   "cell_type": "code",
   "execution_count": null,
   "metadata": {
    "scrolled": true
   },
   "outputs": [],
   "source": [
    "import pandas as pd\n",
    "\n",
    "### 代码开始 ### (≈ 2 行代码)\n",
    "df = pd.read_csv(\"challenge-6-abalone.csv\")\n",
    "df.head()\n",
    "### 代码结束 ###"
   ]
  },
  {
   "cell_type": "markdown",
   "metadata": {},
   "source": [
    "---"
   ]
  },
  {
   "cell_type": "markdown",
   "metadata": {},
   "source": [
    "**挑战：预览数据集最后 `5` 行。**"
   ]
  },
  {
   "cell_type": "code",
   "execution_count": null,
   "metadata": {
    "scrolled": true
   },
   "outputs": [],
   "source": [
    "### 代码开始 ### (≈ 1 行代码)\n",
    "df.tail()\n",
    "### 代码结束 ###"
   ]
  },
  {
   "cell_type": "markdown",
   "metadata": {},
   "source": [
    "---"
   ]
  },
  {
   "cell_type": "markdown",
   "metadata": {},
   "source": [
    "**挑战：给数据集设定正确的列名，并保留被错误用于列名的数据行，同时删除最后一行被错误放置的列名。**"
   ]
  },
  {
   "cell_type": "code",
   "execution_count": null,
   "metadata": {
    "scrolled": false
   },
   "outputs": [],
   "source": [
    "### 代码开始 ### (≈ 3～7 行代码)\n",
    "columns_name = df.iloc[df.index[-1]].values\n",
    "new_line = df.columns.values\n",
    "df = df.drop(df.index[-1])\n",
    "df.columns = columns_name\n",
    "df = pd.DataFrame([new_line], columns=columns_name).append(df, ignore_index=True)\n",
    "### 代码结束 ###"
   ]
  },
  {
   "cell_type": "markdown",
   "metadata": {},
   "source": [
    "---"
   ]
  },
  {
   "cell_type": "markdown",
   "metadata": {},
   "source": [
    "**挑战：将数据集目标值（Rings）按照区间替换为 3 种类别，并按照上文要求替换 `Sex` 列。**"
   ]
  },
  {
   "cell_type": "code",
   "execution_count": null,
   "metadata": {},
   "outputs": [],
   "source": [
    "### 代码开始 ### (≈ 3~5 行代码)\n",
    "df['Rings'] = pd.to_numeric(df['Rings'])\n",
    "df['Rings'] = pd.cut(df.Rings, bins=[0, 10, 20, 30], labels=['small','middle','large'])\n",
    "df['Sex'] = df.Sex.replace({'M':0, 'F':1, 'I':2})\n",
    "### 代码结束 ###"
   ]
  },
  {
   "cell_type": "markdown",
   "metadata": {},
   "source": [
    "---"
   ]
  },
  {
   "cell_type": "markdown",
   "metadata": {},
   "source": [
    "**挑战：使用 `KFold()` 将数据集划分为 `10` 折，指定参数：`shuffle=False`，`random_state=50`。**"
   ]
  },
  {
   "cell_type": "code",
   "execution_count": null,
   "metadata": {
    "scrolled": true
   },
   "outputs": [],
   "source": [
    "### 代码开始 ### (≈ 2 行代码)\n",
    "from sklearn.model_selection import KFold\n",
    "kf = KFold(n_splits=10, random_state=50)\n",
    "### 代码结束 ###"
   ]
  },
  {
   "cell_type": "markdown",
   "metadata": {},
   "source": [
    "---"
   ]
  },
  {
   "cell_type": "markdown",
   "metadata": {},
   "source": [
    "**挑战：使用 K-近邻方法构建机器学习分类模型，并进行 10 折交叉验证。**"
   ]
  },
  {
   "cell_type": "code",
   "execution_count": null,
   "metadata": {
    "scrolled": true
   },
   "outputs": [],
   "source": [
    "### 代码开始 ### (≈ 4~7 行代码)\n",
    "from sklearn.neighbors import KNeighborsClassifier\n",
    "from sklearn.model_selection import cross_val_score\n",
    "\n",
    "features = df.iloc[:, 0:8]\n",
    "target = df['Rings']\n",
    "\n",
    "model = KNeighborsClassifier()\n",
    "cross_val_score(model, X=features, y=target, cv=10)\n",
    "### 代码结束 ###"
   ]
  },
  {
   "cell_type": "markdown",
   "metadata": {},
   "source": [
    "---"
   ]
  },
  {
   "cell_type": "markdown",
   "metadata": {},
   "source": [
    "**挑战：使用 10 折交叉验证方法测试鲍鱼数据集在逻辑回归、K 近邻、支持向量机、人工神经网络、决策树、随机森林、Adaboost 默认参数下的表现结果，并取 10 折交叉验证结果取平均值。**"
   ]
  },
  {
   "cell_type": "code",
   "execution_count": null,
   "metadata": {},
   "outputs": [],
   "source": [
    "\"\"\"加载分类器模块\n",
    "\"\"\"\n",
    "### 代码开始 ### (≈ 7 行代码)\n",
    "import numpy as np\n",
    "from sklearn.linear_model import LogisticRegression\n",
    "from sklearn.neighbors import KNeighborsClassifier\n",
    "from sklearn.svm import SVC\n",
    "from sklearn.neural_network import MLPClassifier\n",
    "from sklearn.tree import DecisionTreeClassifier\n",
    "from sklearn.ensemble import RandomForestClassifier\n",
    "from sklearn.ensemble import AdaBoostClassifier\n",
    "\n",
    "### 代码结束 ###\n",
    "\n",
    "\"\"\"各分类模型 10 折交叉验证函数\n",
    "\"\"\"\n",
    "def classifiers():\n",
    "    \n",
    "    \"\"\"\n",
    "    参数:无\n",
    "\n",
    "    返回:\n",
    "    scores -- 各分类模型 10 折交叉验证平均结果（列表）\n",
    "    \"\"\"\n",
    "    ### 代码开始 ### (> 10 行代码)\n",
    "    scores = []\n",
    "    \n",
    "    models = [\n",
    "        LogisticRegression(),\n",
    "        KNeighborsClassifier(),\n",
    "        SVC(),\n",
    "        MLPClassifier(),\n",
    "        DecisionTreeClassifier(),\n",
    "        RandomForestClassifier(),\n",
    "        AdaBoostClassifier()]\n",
    "    \n",
    "    for model in models:\n",
    "        score = cross_val_score(model, X=features, y=target, cv=10)\n",
    "        mean_score = np.mean(score)\n",
    "        scores.append(mean_score)\n",
    "    ### 代码结束 ###\n",
    "    \n",
    "    return scores"
   ]
  },
  {
   "cell_type": "markdown",
   "metadata": {},
   "source": [
    "---"
   ]
  },
  {
   "cell_type": "markdown",
   "metadata": {},
   "source": [
    "<div style=\"color: #999;font-size: 12px;font-style: italic;\">*本课程内容，由作者授权实验楼发布，未经允许，禁止转载、下载及非法传播。</div>"
   ]
  }
 ],
 "metadata": {
  "kernelspec": {
   "display_name": "Python 3",
   "language": "python",
   "name": "python3"
  },
  "language_info": {
   "codemirror_mode": {
    "name": "ipython",
    "version": 3
   },
   "file_extension": ".py",
   "mimetype": "text/x-python",
   "name": "python",
   "nbconvert_exporter": "python",
   "pygments_lexer": "ipython3",
   "version": "3.6.3"
  }
 },
 "nbformat": 4,
 "nbformat_minor": 2
}

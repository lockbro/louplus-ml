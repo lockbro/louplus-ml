{
 "cells": [
  {
   "cell_type": "markdown",
   "metadata": {},
   "source": [
    "# <font color='brown'>楼 + 机器学习实战</font>\n",
    "\n",
    "# 挑战：使用 TensorFlow 搭建多层神经网络"
   ]
  },
  {
   "cell_type": "markdown",
   "metadata": {},
   "source": [
    "---"
   ]
  },
  {
   "cell_type": "markdown",
   "metadata": {},
   "source": [
    "** 以下内容仅保留挑战代码部分，挑战全文请到原课程查看。**"
   ]
  },
  {
   "cell_type": "markdown",
   "metadata": {},
   "source": [
    "---"
   ]
  },
  {
   "cell_type": "markdown",
   "metadata": {},
   "source": [
    "**挑战：使用 TensorFlow 提到的数学运算方法实现全连接层，并添加 Relu 作为激活函数。**"
   ]
  },
  {
   "cell_type": "code",
   "execution_count": null,
   "metadata": {},
   "outputs": [],
   "source": [
    "import tensorflow as tf\n",
    "\n",
    "def fully_connected(input_layer, weights, biases):\n",
    "    \"\"\"\n",
    "    参数:\n",
    "    input_layer -- 输入层 Variable\n",
    "    weights -- 权重项 Variable\n",
    "    biases -- 截距项 Variable\n",
    "    \n",
    "    返回:\n",
    "    output -- 输出层 Variable\n",
    "    \"\"\"\n",
    "    ### 代码开始 ### (≈ 2 行代码)\n",
    "    layer = tf.add(tf.matmul(input_layer, weights), biases)\n",
    "    output = tf.nn.relu(layer)\n",
    "    ### 代码结束 ###\n",
    "    return output"
   ]
  },
  {
   "cell_type": "markdown",
   "metadata": {},
   "source": [
    "---"
   ]
  },
  {
   "cell_type": "markdown",
   "metadata": {},
   "source": [
    "**挑战：得到上面测试数据在全连接层中的输出结果。**"
   ]
  },
  {
   "cell_type": "code",
   "execution_count": null,
   "metadata": {},
   "outputs": [],
   "source": [
    "### 代码开始 ### (≈ 4 行代码)\n",
    "init = tf.global_variables_initializer()\n",
    "with tf.Session() as sess:\n",
    "    sess.run(init)\n",
    "    output = sess.run(fully_connected(input_layer, weights, biases))\n",
    "### 代码结束 ###\n",
    "output"
   ]
  },
  {
   "cell_type": "markdown",
   "metadata": {},
   "source": [
    "---"
   ]
  },
  {
   "cell_type": "markdown",
   "metadata": {},
   "source": [
    "**挑战：使用上面实现的全连接层函数搭建如图规定的神经网络结构。**"
   ]
  },
  {
   "cell_type": "code",
   "execution_count": null,
   "metadata": {},
   "outputs": [],
   "source": [
    "\"\"\"完成 2 个全连接层\n",
    "\"\"\"\n",
    "\n",
    "input_layer = train_x # 输入层\n",
    "\n",
    "### 代码开始 ### (≈ 4 行代码)\n",
    "\n",
    "# 全连接层 1\n",
    "weight_1 = tf.Variable(tf.ones([64, 30]))\n",
    "bias_1 = tf.Variable(tf.ones([30]))\n",
    "fc_layer_1 = fully_connected(input_layer, weight_1, bias_1)\n",
    "\n",
    "# 全连接层 2\n",
    "weight_2 = tf.Variable(tf.ones([30, 10]))\n",
    "bias_2 = tf.Variable(tf.ones([10]))\n",
    "fc_layer_2 = fully_connected(fc_layer_1, weight_2, bias_2)\n",
    "\n",
    "### 代码结束 ###\n",
    "output_layer = fc_layer_2 # 输出层"
   ]
  },
  {
   "cell_type": "markdown",
   "metadata": {},
   "source": [
    "---"
   ]
  },
  {
   "cell_type": "markdown",
   "metadata": {},
   "source": [
    "**挑战：完成优化器设定。**"
   ]
  },
  {
   "cell_type": "code",
   "execution_count": null,
   "metadata": {
    "scrolled": false
   },
   "outputs": [],
   "source": [
    "# 交叉熵损失函数，该步骤无需理解，后面实验详细介绍\n",
    "loss = tf.reduce_mean(tf.nn.softmax_cross_entropy_with_logits_v2(labels=train_y, logits=output_layer))\n",
    "\n",
    "# 定义损失函数和优化器\n",
    "### 代码开始 ### (≈ 1～2 行代码)\n",
    "\n",
    "train_step = tf.train.GradientDescentOptimizer(.5).minimize(loss)\n",
    "\n",
    "### 代码结束 ###"
   ]
  },
  {
   "cell_type": "markdown",
   "metadata": {},
   "source": [
    "---"
   ]
  },
  {
   "cell_type": "markdown",
   "metadata": {},
   "source": [
    "**挑战：开始训练模型，执行优化迭代过程，最后绘制出损失函数值的变化曲线。**"
   ]
  },
  {
   "cell_type": "code",
   "execution_count": null,
   "metadata": {
    "scrolled": false
   },
   "outputs": [],
   "source": [
    "from matplotlib import pyplot as plt\n",
    "%matplotlib inline\n",
    "\n",
    "### 代码开始 ### (≈ 8~10 行代码)\n",
    "loss_list =[]\n",
    "\n",
    "init = tf.global_variables_initializer()\n",
    "with tf.Session() as sess:\n",
    "    sess.run(init)\n",
    "    for _ in range(10):\n",
    "        sess.run(train_step)\n",
    "        loss_list.append(sess.run(loss))\n",
    "\n",
    "plt.plot(loss_list)\n",
    "loss_list\n",
    "### 代码结束 ###"
   ]
  },
  {
   "cell_type": "markdown",
   "metadata": {},
   "source": [
    "---"
   ]
  },
  {
   "cell_type": "markdown",
   "metadata": {},
   "source": [
    "<div style=\"color: #999;font-size: 12px;font-style: italic;\">*本课程内容，由作者授权实验楼发布，未经允许，禁止转载、下载及非法传播。</div>"
   ]
  }
 ],
 "metadata": {
  "kernelspec": {
   "display_name": "Python 3",
   "language": "python",
   "name": "python3"
  },
  "language_info": {
   "codemirror_mode": {
    "name": "ipython",
    "version": 3
   },
   "file_extension": ".py",
   "mimetype": "text/x-python",
   "name": "python",
   "nbconvert_exporter": "python",
   "pygments_lexer": "ipython3",
   "version": "3.6.5"
  }
 },
 "nbformat": 4,
 "nbformat_minor": 2
}

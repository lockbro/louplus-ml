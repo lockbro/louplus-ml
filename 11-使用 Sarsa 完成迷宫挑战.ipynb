{
 "cells": [
  {
   "cell_type": "markdown",
   "metadata": {},
   "source": [
    "# 楼 + 机器学习实战\n",
    "\n",
    "# 挑战：使用 Sarsa 进行迷宫挑战"
   ]
  },
  {
   "cell_type": "markdown",
   "metadata": {},
   "source": [
    "---"
   ]
  },
  {
   "cell_type": "markdown",
   "metadata": {},
   "source": [
    "** 以下内容仅保留挑战代码部分，挑战全文请到原课程查看。**"
   ]
  },
  {
   "cell_type": "markdown",
   "metadata": {},
   "source": [
    "---"
   ]
  },
  {
   "cell_type": "markdown",
   "metadata": {},
   "source": [
    "**挑战**：从实验中学习到不论是 Q-Learning 还是 Sarsa，他们的核心都是 Q-Table ，首先对 Q-Table 进行初始化。 "
   ]
  },
  {
   "cell_type": "code",
   "execution_count": null,
   "metadata": {},
   "outputs": [],
   "source": [
    "import numpy as np\n",
    "import pandas as pd\n",
    "import time\n",
    "from IPython import display\n",
    "\n",
    "def init_q_table():\n",
    "    \n",
    "    #### 代码开始 ####  (≈ 2 行代码)  \n",
    "    actions = np.array(['up','down','left','right'])\n",
    "    q_table = pd.DataFrame(np.zeros((16, len(actions))),columns=actions) #初始化 Q-Table 全为0\n",
    "    #### 代码结束 ####\n",
    "    \n",
    "    return q_table"
   ]
  },
  {
   "cell_type": "markdown",
   "metadata": {},
   "source": [
    "---"
   ]
  },
  {
   "cell_type": "markdown",
   "metadata": {},
   "source": [
    "**挑战**：使用 $\\epsilon-greedy$ 方法根据 Q-Table 进行动作选择。 "
   ]
  },
  {
   "cell_type": "code",
   "execution_count": null,
   "metadata": {},
   "outputs": [],
   "source": [
    "def act_choose(state, q_table, epsilon):\n",
    "    \n",
    "    state_act = q_table.iloc[state,:]\n",
    "    actions=np.array(['up','down','left','right'])\n",
    "    \n",
    "    #### 代码开始 #### (≈ 4 行代码)\n",
    "    if (np.random.uniform() > epsilon or state_act.all() == 0):\n",
    "        action = np.random.choice(actions)\n",
    "    else:\n",
    "        action = state_act.idxmax()\n",
    "    #### 代码结束 #### \n",
    "\n",
    "    return action"
   ]
  },
  {
   "cell_type": "markdown",
   "metadata": {},
   "source": [
    "---"
   ]
  },
  {
   "cell_type": "markdown",
   "metadata": {},
   "source": [
    "**挑战**：通过学习我们知道 Sarsa 的 Q-Table 的更新公式为： $Q(s_{t},a_{t})=(1-\\alpha) \\cdot Q(s_{t},a_{t})+\\alpha \\cdot (r_{t}+\\gamma \\cdot Q(s_{t+1},a_{t+1}))$ ，根据公式完善 Q-Table 更新函数。 "
   ]
  },
  {
   "cell_type": "code",
   "execution_count": null,
   "metadata": {},
   "outputs": [],
   "source": [
    "def update_q_table(q_table,state,action,next_state,next_action,terminal,gamma,alpha,reward):\n",
    "\n",
    "    x, y = state\n",
    "    next_x, next_y = next_state\n",
    "    q_original= q_table.loc[x * 4 + y, action]\n",
    "    \n",
    "    if next_state != terminal:\n",
    "        ### 代码开始 ### (≈ 1 行代码)\n",
    "        q_predict = reward + gamma * q_table.loc[next_x * 4 + next_y, action] # 不通过 .max() 选择\n",
    "        ### 代码结束 ###\n",
    "    else:\n",
    "        q_predict = reward\n",
    "        \n",
    "    #### 代码开始 ### (≈ 1 行代码)   \n",
    "    q_table.loc[x * 4 + y, action] = (1-alpha) * q_original + alpha * q_predict # 和 Q-Learning 一致\n",
    "    ### 代码结束 ###\n",
    "    \n",
    "    return q_table"
   ]
  },
  {
   "cell_type": "markdown",
   "metadata": {},
   "source": [
    "---"
   ]
  },
  {
   "cell_type": "markdown",
   "metadata": {},
   "source": [
    "**挑战**：顺利完成以上几个函数后，根据算法流程实现 Sarsa 算法。 "
   ]
  },
  {
   "cell_type": "code",
   "execution_count": null,
   "metadata": {},
   "outputs": [],
   "source": [
    "def sarsa(max_episodes, alpha, gamma, epsilon):\n",
    "    q_table = init_q_table()\n",
    "    terminal = (3, 2)\n",
    "    hole = (2, 1)\n",
    "    episodes = 0\n",
    "    while(episodes < max_episodes):\n",
    "        step = 0\n",
    "        state = (0, 0)\n",
    "        end = 0\n",
    "        show_state(end, state, episodes, step, q_table)\n",
    "        x, y = state\n",
    "\n",
    "        # 代码开始 ### （≈ 1 行代码)\n",
    "        next_action = act_choose(x * 4 + y, q_table, epsilon) #动作选择\n",
    "        ### 代码结束 ###\n",
    "\n",
    "        while(end == 0):\n",
    "            x, y = state\n",
    "            action = act_choose(x * 4 + y, q_table, epsilon)  # 动作选择\n",
    "            next_state, reward, end = env_feedback(state, action, hole, terminal)  # 环境反馈\n",
    "\n",
    "            # 代码开始 ### （≈ 3 行代码)\n",
    "            q_table=update_q_table(q_table, state, action, next_state, next_action, \n",
    "                                   terminal, gamma, alpha, reward) # q-table 更新\n",
    "            state=next_state\n",
    "            action=next_action\n",
    "            ### 代码结束 ###\n",
    "\n",
    "            step += 1\n",
    "            show_state(end, state, episodes, step, q_table)\n",
    "        if end == 2:\n",
    "            episodes += 1"
   ]
  },
  {
   "cell_type": "markdown",
   "metadata": {},
   "source": [
    "---"
   ]
  },
  {
   "cell_type": "markdown",
   "metadata": {},
   "source": [
    "<div style=\"color: #999;font-size: 12px;font-style: italic;\">*本课程内容，由作者授权实验楼发布，未经允许，禁止转载、下载及非法传播。</div>"
   ]
  }
 ],
 "metadata": {
  "kernelspec": {
   "display_name": "Python 3",
   "language": "python",
   "name": "python3"
  },
  "language_info": {
   "codemirror_mode": {
    "name": "ipython",
    "version": 3
   },
   "file_extension": ".py",
   "mimetype": "text/x-python",
   "name": "python",
   "nbconvert_exporter": "python",
   "pygments_lexer": "ipython3",
   "version": "3.6.3"
  }
 },
 "nbformat": 4,
 "nbformat_minor": 2
}

{
 "cells": [
  {
   "cell_type": "markdown",
   "metadata": {},
   "source": [
    "# 楼 + 机器学习实战\n",
    "\n",
    "# 挑战：常用聚类算法对比评估"
   ]
  },
  {
   "cell_type": "markdown",
   "metadata": {},
   "source": [
    "---"
   ]
  },
  {
   "cell_type": "markdown",
   "metadata": {},
   "source": [
    "** 以下内容仅保留挑战代码部分，挑战全文请到原课程查看。**"
   ]
  },
  {
   "cell_type": "markdown",
   "metadata": {},
   "source": [
    "---"
   ]
  },
  {
   "cell_type": "markdown",
   "metadata": {},
   "source": [
    "**挑战：** 使用 sklearn 生成 3 组测试数据，并绘制出散点图（横排拼接子图）。"
   ]
  },
  {
   "cell_type": "code",
   "execution_count": null,
   "metadata": {},
   "outputs": [],
   "source": [
    "import numpy as np\n",
    "from sklearn import datasets\n",
    "from matplotlib import pyplot as plt\n",
    "%matplotlib inline\n",
    "\n",
    "### 代码开始 ### ((≈ 5-7 行代码))\n",
    "moons, _ = datasets.make_moons(n_samples=100, noise=.1, random_state=10)\n",
    "circles, _ = datasets.make_circles(n_samples=100, noise=.1, factor=.3, random_state=10)\n",
    "blobs, _ = datasets.make_blobs(n_samples=100, n_features=2, centers=2, cluster_std=1.5, random_state=10)\n",
    "\n",
    "fig, axes = plt.subplots(nrows=1, ncols=3, figsize=(16, 4))\n",
    "axes[0].scatter(moons[:, 0],moons[:, 1])\n",
    "axes[1].scatter(circles[:, 0],circles[:, 1])\n",
    "axes[2].scatter(blobs[:, 0],blobs[:, 1])\n",
    "### 代码结束 ###"
   ]
  },
  {
   "cell_type": "markdown",
   "metadata": {},
   "source": [
    "---"
   ]
  },
  {
   "cell_type": "markdown",
   "metadata": {},
   "source": [
    "**挑战：** 采用上述 8 个聚类方法分别在 moons, circles 和 blobs 上进行测试，并将聚类结果绘制成图。"
   ]
  },
  {
   "cell_type": "code",
   "execution_count": null,
   "metadata": {
    "scrolled": true
   },
   "outputs": [],
   "source": [
    "from sklearn import cluster\n",
    "\n",
    "### 代码开始 ### (> 10 行代码)\n",
    "cluster_names = ['KMeans', 'MiniBatchKMeans', 'AffinityPropagation', \n",
    "                 'MeanShift', 'SpectralClustering', 'AgglomerativeClustering', 'Birch', 'DBSCAN']\n",
    "\n",
    "cluster_estimators = [\n",
    "    cluster.KMeans(n_clusters=2),\n",
    "    cluster.MiniBatchKMeans(n_clusters=2),\n",
    "    cluster.AffinityPropagation(),\n",
    "    cluster.MeanShift(),\n",
    "    cluster.SpectralClustering(n_clusters=2),\n",
    "    cluster.AgglomerativeClustering(n_clusters=2),\n",
    "    cluster.Birch(n_clusters=2),\n",
    "    cluster.DBSCAN(eps=0.2, min_samples=5)\n",
    "]\n",
    "\n",
    "for algorithm_name, algorithm in zip(cluster_names, cluster_estimators):\n",
    "    \n",
    "    moons_clusters = algorithm.fit_predict(moons)\n",
    "    circles_clusters = algorithm.fit_predict(circles)\n",
    "    blobs_clusters = algorithm.fit_predict(blobs)\n",
    "    \n",
    "    fig, axes = plt.subplots(nrows=1, ncols=3, figsize=(16, 4))\n",
    "    axes[0].scatter(moons[:, 0],moons[:, 1], c=moons_clusters)\n",
    "    axes[1].scatter(circles[:, 0],circles[:, 1], c=circles_clusters)\n",
    "    axes[2].scatter(blobs[:, 0],blobs[:, 1], c=blobs_clusters)\n",
    "    axes[0].set_ylabel('{}'.format(algorithm_name))\n",
    "### 代码结束 ###"
   ]
  },
  {
   "cell_type": "markdown",
   "metadata": {},
   "source": [
    "---"
   ]
  },
  {
   "cell_type": "markdown",
   "metadata": {},
   "source": [
    "**挑战：** 使用 `create_data(n)` 生成不同规模的测试数据，并计算不同算法的聚类时间，且绘制对应的折线图。"
   ]
  },
  {
   "cell_type": "code",
   "execution_count": null,
   "metadata": {
    "scrolled": false
   },
   "outputs": [],
   "source": [
    "import time\n",
    "\n",
    "### 代码开始 ### (> 10 行代码)\n",
    "cluster_names = ['KMeans', 'MiniBatchKMeans', 'AffinityPropagation', \n",
    "                 'MeanShift', 'SpectralClustering', 'AgglomerativeClustering', 'Birch', 'DBSCAN']\n",
    "\n",
    "cluster_estimators = [\n",
    "    cluster.KMeans(n_clusters=2),\n",
    "    cluster.MiniBatchKMeans(n_clusters=2),\n",
    "    cluster.AffinityPropagation(),\n",
    "    cluster.MeanShift(),\n",
    "    cluster.SpectralClustering(n_clusters=2),\n",
    "    cluster.AgglomerativeClustering(n_clusters=2),\n",
    "    cluster.Birch(n_clusters=2),\n",
    "    cluster.DBSCAN()\n",
    "]\n",
    "\n",
    "cluster_t_list = []\n",
    "for algorithm_name, algorithm in zip(cluster_names, cluster_estimators):\n",
    "    t_list = []\n",
    "    for num in [i for i in range(100, 1000, 100)]:\n",
    "        data = create_data(num)\n",
    "        t0 = time.time()\n",
    "        moons_clusters = algorithm.fit(data)\n",
    "        t1 = time.time()\n",
    "        t_list.append(t1 - t0)\n",
    "    print(\"{} fitted & average time:{:4f}\".format(algorithm_name, np.mean(t_list)))\n",
    "    cluster_t_list.append(t_list)\n",
    "\n",
    "plt.figure(figsize=(12, 6))\n",
    "for cluster_t, cluster_name in zip(cluster_t_list, cluster_names):\n",
    "    plt.plot(cluster_t, marker='.', label=cluster_name)\n",
    "    plt.legend()\n",
    "### 代码结束 ###"
   ]
  },
  {
   "cell_type": "markdown",
   "metadata": {},
   "source": [
    "---"
   ]
  },
  {
   "cell_type": "markdown",
   "metadata": {},
   "source": [
    "<div style=\"color: #999;font-size: 12px;font-style: italic;\">*本课程内容，由作者授权实验楼发布，未经允许，禁止转载、下载及非法传播。</div>"
   ]
  }
 ],
 "metadata": {
  "kernelspec": {
   "display_name": "Python 3",
   "language": "python",
   "name": "python3"
  },
  "language_info": {
   "codemirror_mode": {
    "name": "ipython",
    "version": 3
   },
   "file_extension": ".py",
   "mimetype": "text/x-python",
   "name": "python",
   "nbconvert_exporter": "python",
   "pygments_lexer": "ipython3",
   "version": "3.6.5"
  }
 },
 "nbformat": 4,
 "nbformat_minor": 2
}

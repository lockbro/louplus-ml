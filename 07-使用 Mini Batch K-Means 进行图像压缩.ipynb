{
 "cells": [
  {
   "cell_type": "markdown",
   "metadata": {},
   "source": [
    "# 楼 + 机器学习实战\n",
    "\n",
    "# 挑战：使用 Mini Batch K-Means 进行图像压缩"
   ]
  },
  {
   "cell_type": "markdown",
   "metadata": {},
   "source": [
    "---"
   ]
  },
  {
   "cell_type": "markdown",
   "metadata": {},
   "source": [
    "** 以下内容仅保留挑战代码部分，挑战全文请到原课程查看。**"
   ]
  },
  {
   "cell_type": "markdown",
   "metadata": {},
   "source": [
    "---"
   ]
  },
  {
   "cell_type": "markdown",
   "metadata": {},
   "source": [
    "**挑战：将形状为 $(516, 819, 3)$ 的数据转换为 $(422604, 3)$ 形状的数据。**"
   ]
  },
  {
   "cell_type": "code",
   "execution_count": null,
   "metadata": {},
   "outputs": [],
   "source": [
    "\"\"\"数据格式变换\n",
    "\"\"\"\n",
    "### 代码开始 ###(≈ 1 行代码)\n",
    "data = chengdu.reshape(516 * 819, 3)\n",
    "### 代码结束 ###"
   ]
  },
  {
   "cell_type": "markdown",
   "metadata": {},
   "source": [
    "---"
   ]
  },
  {
   "cell_type": "markdown",
   "metadata": {},
   "source": [
    "**挑战：计算 `422604` 个像素点中种类的个数。 **"
   ]
  },
  {
   "cell_type": "code",
   "execution_count": null,
   "metadata": {},
   "outputs": [],
   "source": [
    "\"\"\"计算像素点种类个数\n",
    "\"\"\"\n",
    "def get_variety(data):\n",
    "    \"\"\"\n",
    "    参数:\n",
    "    预处理后像素点集合\n",
    "\n",
    "    返回:\n",
    "    num_variety -- 像素点种类个数\n",
    "    \"\"\"\n",
    "\n",
    "    ### 代码开始 ### (≈ 3 行代码)\n",
    "    temp=data.tolist()\n",
    "    num_variety=len(set([tuple(t) for t in temp]))\n",
    "    ### 代码结束 ###\n",
    "    \n",
    "    return num_variety"
   ]
  },
  {
   "cell_type": "markdown",
   "metadata": {},
   "source": [
    "---"
   ]
  },
  {
   "cell_type": "markdown",
   "metadata": {},
   "source": [
    "**挑战：使用 Mini Batch K-Means 聚类方法对像素点进行聚类，并用每一个中心的像素点代替属于该类别的像素点。 **"
   ]
  },
  {
   "cell_type": "code",
   "execution_count": null,
   "metadata": {},
   "outputs": [],
   "source": [
    "from sklearn.cluster import MiniBatchKMeans\n",
    "\n",
    "### 代码开始 ###（≈ 4 行代码）\n",
    "model = MiniBatchKMeans(10)\n",
    "model.fit(data)\n",
    "predict=model.predict(data)\n",
    "### 代码结束 ###\n",
    "\n",
    "new_colors = model.cluster_centers_[predict]"
   ]
  },
  {
   "cell_type": "markdown",
   "metadata": {},
   "source": [
    "---"
   ]
  },
  {
   "cell_type": "markdown",
   "metadata": {},
   "source": [
    "**挑战**：将聚类后并替换为类别中心点值的像素点，变换为数据处理前的格式，并绘制出图片进行对比展示。 "
   ]
  },
  {
   "cell_type": "code",
   "execution_count": null,
   "metadata": {},
   "outputs": [],
   "source": [
    "fig, ax = plt.subplots(1, 2, figsize=(16, 6))\n",
    "\n",
    "### 代码开始 ###（≈ 3 行代码）\n",
    "new_chengdu = new_colors.reshape(chengdu.shape)\n",
    "ax[0].imshow(chengdu)\n",
    "ax[1].imshow(new_chengdu)\n",
    "### 代码结束 ###"
   ]
  },
  {
   "cell_type": "markdown",
   "metadata": {},
   "source": [
    "---"
   ]
  },
  {
   "cell_type": "markdown",
   "metadata": {},
   "source": [
    "<div style=\"color: #999;font-size: 12px;font-style: italic;\">*本课程内容，由作者授权实验楼发布，未经允许，禁止转载、下载及非法传播。</div>"
   ]
  }
 ],
 "metadata": {
  "kernelspec": {
   "display_name": "Python 3",
   "language": "python",
   "name": "python3"
  },
  "language_info": {
   "codemirror_mode": {
    "name": "ipython",
    "version": 3
   },
   "file_extension": ".py",
   "mimetype": "text/x-python",
   "name": "python",
   "nbconvert_exporter": "python",
   "pygments_lexer": "ipython3",
   "version": "3.6.3"
  }
 },
 "nbformat": 4,
 "nbformat_minor": 2
}

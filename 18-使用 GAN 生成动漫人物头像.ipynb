{
 "cells": [
  {
   "cell_type": "markdown",
   "metadata": {},
   "source": [
    "# <font color='brown'>楼 + 机器学习实战</font>\n",
    "\n",
    "# 挑战：使用 DCGAN 生成动漫头像"
   ]
  },
  {
   "cell_type": "markdown",
   "metadata": {},
   "source": [
    "---"
   ]
  },
  {
   "cell_type": "markdown",
   "metadata": {},
   "source": [
    "** 以下内容仅保留挑战代码部分，挑战全文请到原课程查看。**"
   ]
  },
  {
   "cell_type": "markdown",
   "metadata": {},
   "source": [
    "---"
   ]
  },
  {
   "cell_type": "markdown",
   "metadata": {},
   "source": [
    "**挑战：按照规定，定义生成器网络。**"
   ]
  },
  {
   "cell_type": "code",
   "execution_count": null,
   "metadata": {},
   "outputs": [],
   "source": [
    "from torch import nn\n",
    "\n",
    "net_generator = nn.Sequential(\n",
    "    \n",
    "    ### 代码开始 ### (≈ 14 行代码)\n",
    "    \n",
    "    nn.ConvTranspose2d(100, 64*8, 4, bias=False),\n",
    "    nn.BatchNorm2d(64*8),\n",
    "    nn.ReLU(True),\n",
    "\n",
    "    nn.ConvTranspose2d(64*8, 64*4, 4, 2, 1, bias=False),\n",
    "    nn.BatchNorm2d(64*4),\n",
    "    nn.ReLU(True),\n",
    "\n",
    "    nn.ConvTranspose2d(64*4, 64*2, 4, 2, 1, bias=False),\n",
    "    nn.BatchNorm2d(64*2),\n",
    "    nn.ReLU(True),\n",
    "\n",
    "    nn.ConvTranspose2d(64*2, 64, 4, 2, 1, bias=False),\n",
    "    nn.BatchNorm2d(64),\n",
    "    nn.ReLU(True),\n",
    "\n",
    "    nn.ConvTranspose2d(64, 3, 4, 2, 1, bias=False),\n",
    "    nn.Tanh()\n",
    "    \n",
    "    ### 代码结束 ###\n",
    ")"
   ]
  },
  {
   "cell_type": "markdown",
   "metadata": {},
   "source": [
    "---"
   ]
  },
  {
   "cell_type": "markdown",
   "metadata": {},
   "source": [
    "**挑战：按照规定，定义判别器网络。**"
   ]
  },
  {
   "cell_type": "code",
   "execution_count": null,
   "metadata": {},
   "outputs": [],
   "source": [
    "net_discriminator = nn.Sequential(\n",
    "    \n",
    "    ### 代码开始 ### (≈ 14 行代码)\n",
    "    \n",
    "    nn.Conv2d(3, 64, 4, 2, 1, bias=False),\n",
    "    nn.BatchNorm2d(64),\n",
    "    nn.LeakyReLU(0.2, inplace=True),\n",
    "\n",
    "    nn.Conv2d(64, 64*2, 4, 2, 1, bias=False),\n",
    "    nn.BatchNorm2d(64*2),\n",
    "    nn.LeakyReLU(0.2, inplace=True),\n",
    "\n",
    "    nn.Conv2d(64*2, 64*4, 4, 2, 1, bias=False),\n",
    "    nn.BatchNorm2d(64*4),\n",
    "    nn.LeakyReLU(0.2, inplace=True),\n",
    "\n",
    "    nn.Conv2d(64*4, 64*8, 4, 2, 1, bias=False),\n",
    "    nn.BatchNorm2d(64*8),\n",
    "    nn.LeakyReLU(0.2, inplace=True),\n",
    "\n",
    "    nn.Conv2d(64*8, 1, 4, bias=False),\n",
    "    nn.Sigmoid()\n",
    "    \n",
    "    ### 代码结束 ###\n",
    ")"
   ]
  },
  {
   "cell_type": "markdown",
   "metadata": {},
   "source": [
    "---"
   ]
  },
  {
   "cell_type": "markdown",
   "metadata": {},
   "source": [
    "<div style=\"color: #999;font-size: 12px;font-style: italic;\">*本课程内容，由作者授权实验楼发布，未经允许，禁止转载、下载及非法传播。</div>"
   ]
  }
 ],
 "metadata": {
  "kernelspec": {
   "display_name": "Python 3",
   "language": "python",
   "name": "python3"
  },
  "language_info": {
   "codemirror_mode": {
    "name": "ipython",
    "version": 3
   },
   "file_extension": ".py",
   "mimetype": "text/x-python",
   "name": "python",
   "nbconvert_exporter": "python",
   "pygments_lexer": "ipython3",
   "version": "3.6.5"
  }
 },
 "nbformat": 4,
 "nbformat_minor": 2
}
